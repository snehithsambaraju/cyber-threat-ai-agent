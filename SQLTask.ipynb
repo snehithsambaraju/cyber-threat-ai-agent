{
  "nbformat": 4,
  "nbformat_minor": 0,
  "metadata": {
    "colab": {
      "provenance": [],
      "authorship_tag": "ABX9TyOWUWPUhnikM5jWxllznSH2",
      "include_colab_link": true
    },
    "kernelspec": {
      "name": "python3",
      "display_name": "Python 3"
    },
    "language_info": {
      "name": "python"
    }
  },
  "cells": [
    {
      "cell_type": "markdown",
      "metadata": {
        "id": "view-in-github",
        "colab_type": "text"
      },
      "source": [
        "<a href=\"https://colab.research.google.com/github/snehithsambaraju/AI-Based-Cyber-Security-Threats-Predication/blob/main/SQLTask.ipynb\" target=\"_parent\"><img src=\"https://colab.research.google.com/assets/colab-badge.svg\" alt=\"Open In Colab\"/></a>"
      ]
    },
    {
      "cell_type": "code",
      "execution_count": 1,
      "metadata": {
        "colab": {
          "base_uri": "https://localhost:8080/",
          "height": 71
        },
        "id": "MjMn7QAqNM84",
        "outputId": "124aee9b-f72b-44f7-f4f4-8d1b9a95e052"
      },
      "outputs": [
        {
          "output_type": "display_data",
          "data": {
            "text/plain": [
              "<IPython.core.display.HTML object>"
            ],
            "text/html": [
              "\n",
              "     <input type=\"file\" id=\"files-189fa385-ebed-447c-bfd5-1c25c77e4d0c\" name=\"files[]\" multiple disabled\n",
              "        style=\"border:none\" />\n",
              "     <output id=\"result-189fa385-ebed-447c-bfd5-1c25c77e4d0c\">\n",
              "      Upload widget is only available when the cell has been executed in the\n",
              "      current browser session. Please rerun this cell to enable.\n",
              "      </output>\n",
              "      <script>// Copyright 2017 Google LLC\n",
              "//\n",
              "// Licensed under the Apache License, Version 2.0 (the \"License\");\n",
              "// you may not use this file except in compliance with the License.\n",
              "// You may obtain a copy of the License at\n",
              "//\n",
              "//      http://www.apache.org/licenses/LICENSE-2.0\n",
              "//\n",
              "// Unless required by applicable law or agreed to in writing, software\n",
              "// distributed under the License is distributed on an \"AS IS\" BASIS,\n",
              "// WITHOUT WARRANTIES OR CONDITIONS OF ANY KIND, either express or implied.\n",
              "// See the License for the specific language governing permissions and\n",
              "// limitations under the License.\n",
              "\n",
              "/**\n",
              " * @fileoverview Helpers for google.colab Python module.\n",
              " */\n",
              "(function(scope) {\n",
              "function span(text, styleAttributes = {}) {\n",
              "  const element = document.createElement('span');\n",
              "  element.textContent = text;\n",
              "  for (const key of Object.keys(styleAttributes)) {\n",
              "    element.style[key] = styleAttributes[key];\n",
              "  }\n",
              "  return element;\n",
              "}\n",
              "\n",
              "// Max number of bytes which will be uploaded at a time.\n",
              "const MAX_PAYLOAD_SIZE = 100 * 1024;\n",
              "\n",
              "function _uploadFiles(inputId, outputId) {\n",
              "  const steps = uploadFilesStep(inputId, outputId);\n",
              "  const outputElement = document.getElementById(outputId);\n",
              "  // Cache steps on the outputElement to make it available for the next call\n",
              "  // to uploadFilesContinue from Python.\n",
              "  outputElement.steps = steps;\n",
              "\n",
              "  return _uploadFilesContinue(outputId);\n",
              "}\n",
              "\n",
              "// This is roughly an async generator (not supported in the browser yet),\n",
              "// where there are multiple asynchronous steps and the Python side is going\n",
              "// to poll for completion of each step.\n",
              "// This uses a Promise to block the python side on completion of each step,\n",
              "// then passes the result of the previous step as the input to the next step.\n",
              "function _uploadFilesContinue(outputId) {\n",
              "  const outputElement = document.getElementById(outputId);\n",
              "  const steps = outputElement.steps;\n",
              "\n",
              "  const next = steps.next(outputElement.lastPromiseValue);\n",
              "  return Promise.resolve(next.value.promise).then((value) => {\n",
              "    // Cache the last promise value to make it available to the next\n",
              "    // step of the generator.\n",
              "    outputElement.lastPromiseValue = value;\n",
              "    return next.value.response;\n",
              "  });\n",
              "}\n",
              "\n",
              "/**\n",
              " * Generator function which is called between each async step of the upload\n",
              " * process.\n",
              " * @param {string} inputId Element ID of the input file picker element.\n",
              " * @param {string} outputId Element ID of the output display.\n",
              " * @return {!Iterable<!Object>} Iterable of next steps.\n",
              " */\n",
              "function* uploadFilesStep(inputId, outputId) {\n",
              "  const inputElement = document.getElementById(inputId);\n",
              "  inputElement.disabled = false;\n",
              "\n",
              "  const outputElement = document.getElementById(outputId);\n",
              "  outputElement.innerHTML = '';\n",
              "\n",
              "  const pickedPromise = new Promise((resolve) => {\n",
              "    inputElement.addEventListener('change', (e) => {\n",
              "      resolve(e.target.files);\n",
              "    });\n",
              "  });\n",
              "\n",
              "  const cancel = document.createElement('button');\n",
              "  inputElement.parentElement.appendChild(cancel);\n",
              "  cancel.textContent = 'Cancel upload';\n",
              "  const cancelPromise = new Promise((resolve) => {\n",
              "    cancel.onclick = () => {\n",
              "      resolve(null);\n",
              "    };\n",
              "  });\n",
              "\n",
              "  // Wait for the user to pick the files.\n",
              "  const files = yield {\n",
              "    promise: Promise.race([pickedPromise, cancelPromise]),\n",
              "    response: {\n",
              "      action: 'starting',\n",
              "    }\n",
              "  };\n",
              "\n",
              "  cancel.remove();\n",
              "\n",
              "  // Disable the input element since further picks are not allowed.\n",
              "  inputElement.disabled = true;\n",
              "\n",
              "  if (!files) {\n",
              "    return {\n",
              "      response: {\n",
              "        action: 'complete',\n",
              "      }\n",
              "    };\n",
              "  }\n",
              "\n",
              "  for (const file of files) {\n",
              "    const li = document.createElement('li');\n",
              "    li.append(span(file.name, {fontWeight: 'bold'}));\n",
              "    li.append(span(\n",
              "        `(${file.type || 'n/a'}) - ${file.size} bytes, ` +\n",
              "        `last modified: ${\n",
              "            file.lastModifiedDate ? file.lastModifiedDate.toLocaleDateString() :\n",
              "                                    'n/a'} - `));\n",
              "    const percent = span('0% done');\n",
              "    li.appendChild(percent);\n",
              "\n",
              "    outputElement.appendChild(li);\n",
              "\n",
              "    const fileDataPromise = new Promise((resolve) => {\n",
              "      const reader = new FileReader();\n",
              "      reader.onload = (e) => {\n",
              "        resolve(e.target.result);\n",
              "      };\n",
              "      reader.readAsArrayBuffer(file);\n",
              "    });\n",
              "    // Wait for the data to be ready.\n",
              "    let fileData = yield {\n",
              "      promise: fileDataPromise,\n",
              "      response: {\n",
              "        action: 'continue',\n",
              "      }\n",
              "    };\n",
              "\n",
              "    // Use a chunked sending to avoid message size limits. See b/62115660.\n",
              "    let position = 0;\n",
              "    do {\n",
              "      const length = Math.min(fileData.byteLength - position, MAX_PAYLOAD_SIZE);\n",
              "      const chunk = new Uint8Array(fileData, position, length);\n",
              "      position += length;\n",
              "\n",
              "      const base64 = btoa(String.fromCharCode.apply(null, chunk));\n",
              "      yield {\n",
              "        response: {\n",
              "          action: 'append',\n",
              "          file: file.name,\n",
              "          data: base64,\n",
              "        },\n",
              "      };\n",
              "\n",
              "      let percentDone = fileData.byteLength === 0 ?\n",
              "          100 :\n",
              "          Math.round((position / fileData.byteLength) * 100);\n",
              "      percent.textContent = `${percentDone}% done`;\n",
              "\n",
              "    } while (position < fileData.byteLength);\n",
              "  }\n",
              "\n",
              "  // All done.\n",
              "  yield {\n",
              "    response: {\n",
              "      action: 'complete',\n",
              "    }\n",
              "  };\n",
              "}\n",
              "\n",
              "scope.google = scope.google || {};\n",
              "scope.google.colab = scope.google.colab || {};\n",
              "scope.google.colab._files = {\n",
              "  _uploadFiles,\n",
              "  _uploadFilesContinue,\n",
              "};\n",
              "})(self);\n",
              "</script> "
            ]
          },
          "metadata": {}
        },
        {
          "output_type": "stream",
          "name": "stdout",
          "text": [
            "Saving Titanic-Dataset.csv to Titanic-Dataset.csv\n"
          ]
        }
      ],
      "source": [
        "from google.colab import files\n",
        "uploaded=files.upload()\n"
      ]
    },
    {
      "cell_type": "code",
      "source": [
        "import pandas as pd\n",
        "\n",
        "# Assuming the uploaded file is 'Titanic-Dataset.csv'\n",
        "df = pd.read_csv('Titanic-Dataset.csv')"
      ],
      "metadata": {
        "id": "SEHfmw-MNdUB"
      },
      "execution_count": 2,
      "outputs": []
    },
    {
      "cell_type": "code",
      "source": [
        "from google.colab import files\n",
        "uploaded = files.upload()  # Upload 'Titanic-Dataset.csv'\n",
        "\n",
        "import pandas as pd\n",
        "import sqlite3\n",
        "\n",
        "# Load CSV\n",
        "df = pd.read_csv('Titanic-Dataset.csv')\n",
        "\n",
        "# Connect SQLite and create table\n",
        "conn = sqlite3.connect('titanic.db')\n",
        "df.to_sql('titanic', conn, index=False, if_exists='replace')"
      ],
      "metadata": {
        "colab": {
          "base_uri": "https://localhost:8080/",
          "height": 88
        },
        "id": "Ufv04AnuQb7B",
        "outputId": "b7a3b93b-904b-4f5f-d3ad-63b73eee8976"
      },
      "execution_count": 4,
      "outputs": [
        {
          "output_type": "display_data",
          "data": {
            "text/plain": [
              "<IPython.core.display.HTML object>"
            ],
            "text/html": [
              "\n",
              "     <input type=\"file\" id=\"files-9529ee1a-ac46-432f-97e6-931724055ec8\" name=\"files[]\" multiple disabled\n",
              "        style=\"border:none\" />\n",
              "     <output id=\"result-9529ee1a-ac46-432f-97e6-931724055ec8\">\n",
              "      Upload widget is only available when the cell has been executed in the\n",
              "      current browser session. Please rerun this cell to enable.\n",
              "      </output>\n",
              "      <script>// Copyright 2017 Google LLC\n",
              "//\n",
              "// Licensed under the Apache License, Version 2.0 (the \"License\");\n",
              "// you may not use this file except in compliance with the License.\n",
              "// You may obtain a copy of the License at\n",
              "//\n",
              "//      http://www.apache.org/licenses/LICENSE-2.0\n",
              "//\n",
              "// Unless required by applicable law or agreed to in writing, software\n",
              "// distributed under the License is distributed on an \"AS IS\" BASIS,\n",
              "// WITHOUT WARRANTIES OR CONDITIONS OF ANY KIND, either express or implied.\n",
              "// See the License for the specific language governing permissions and\n",
              "// limitations under the License.\n",
              "\n",
              "/**\n",
              " * @fileoverview Helpers for google.colab Python module.\n",
              " */\n",
              "(function(scope) {\n",
              "function span(text, styleAttributes = {}) {\n",
              "  const element = document.createElement('span');\n",
              "  element.textContent = text;\n",
              "  for (const key of Object.keys(styleAttributes)) {\n",
              "    element.style[key] = styleAttributes[key];\n",
              "  }\n",
              "  return element;\n",
              "}\n",
              "\n",
              "// Max number of bytes which will be uploaded at a time.\n",
              "const MAX_PAYLOAD_SIZE = 100 * 1024;\n",
              "\n",
              "function _uploadFiles(inputId, outputId) {\n",
              "  const steps = uploadFilesStep(inputId, outputId);\n",
              "  const outputElement = document.getElementById(outputId);\n",
              "  // Cache steps on the outputElement to make it available for the next call\n",
              "  // to uploadFilesContinue from Python.\n",
              "  outputElement.steps = steps;\n",
              "\n",
              "  return _uploadFilesContinue(outputId);\n",
              "}\n",
              "\n",
              "// This is roughly an async generator (not supported in the browser yet),\n",
              "// where there are multiple asynchronous steps and the Python side is going\n",
              "// to poll for completion of each step.\n",
              "// This uses a Promise to block the python side on completion of each step,\n",
              "// then passes the result of the previous step as the input to the next step.\n",
              "function _uploadFilesContinue(outputId) {\n",
              "  const outputElement = document.getElementById(outputId);\n",
              "  const steps = outputElement.steps;\n",
              "\n",
              "  const next = steps.next(outputElement.lastPromiseValue);\n",
              "  return Promise.resolve(next.value.promise).then((value) => {\n",
              "    // Cache the last promise value to make it available to the next\n",
              "    // step of the generator.\n",
              "    outputElement.lastPromiseValue = value;\n",
              "    return next.value.response;\n",
              "  });\n",
              "}\n",
              "\n",
              "/**\n",
              " * Generator function which is called between each async step of the upload\n",
              " * process.\n",
              " * @param {string} inputId Element ID of the input file picker element.\n",
              " * @param {string} outputId Element ID of the output display.\n",
              " * @return {!Iterable<!Object>} Iterable of next steps.\n",
              " */\n",
              "function* uploadFilesStep(inputId, outputId) {\n",
              "  const inputElement = document.getElementById(inputId);\n",
              "  inputElement.disabled = false;\n",
              "\n",
              "  const outputElement = document.getElementById(outputId);\n",
              "  outputElement.innerHTML = '';\n",
              "\n",
              "  const pickedPromise = new Promise((resolve) => {\n",
              "    inputElement.addEventListener('change', (e) => {\n",
              "      resolve(e.target.files);\n",
              "    });\n",
              "  });\n",
              "\n",
              "  const cancel = document.createElement('button');\n",
              "  inputElement.parentElement.appendChild(cancel);\n",
              "  cancel.textContent = 'Cancel upload';\n",
              "  const cancelPromise = new Promise((resolve) => {\n",
              "    cancel.onclick = () => {\n",
              "      resolve(null);\n",
              "    };\n",
              "  });\n",
              "\n",
              "  // Wait for the user to pick the files.\n",
              "  const files = yield {\n",
              "    promise: Promise.race([pickedPromise, cancelPromise]),\n",
              "    response: {\n",
              "      action: 'starting',\n",
              "    }\n",
              "  };\n",
              "\n",
              "  cancel.remove();\n",
              "\n",
              "  // Disable the input element since further picks are not allowed.\n",
              "  inputElement.disabled = true;\n",
              "\n",
              "  if (!files) {\n",
              "    return {\n",
              "      response: {\n",
              "        action: 'complete',\n",
              "      }\n",
              "    };\n",
              "  }\n",
              "\n",
              "  for (const file of files) {\n",
              "    const li = document.createElement('li');\n",
              "    li.append(span(file.name, {fontWeight: 'bold'}));\n",
              "    li.append(span(\n",
              "        `(${file.type || 'n/a'}) - ${file.size} bytes, ` +\n",
              "        `last modified: ${\n",
              "            file.lastModifiedDate ? file.lastModifiedDate.toLocaleDateString() :\n",
              "                                    'n/a'} - `));\n",
              "    const percent = span('0% done');\n",
              "    li.appendChild(percent);\n",
              "\n",
              "    outputElement.appendChild(li);\n",
              "\n",
              "    const fileDataPromise = new Promise((resolve) => {\n",
              "      const reader = new FileReader();\n",
              "      reader.onload = (e) => {\n",
              "        resolve(e.target.result);\n",
              "      };\n",
              "      reader.readAsArrayBuffer(file);\n",
              "    });\n",
              "    // Wait for the data to be ready.\n",
              "    let fileData = yield {\n",
              "      promise: fileDataPromise,\n",
              "      response: {\n",
              "        action: 'continue',\n",
              "      }\n",
              "    };\n",
              "\n",
              "    // Use a chunked sending to avoid message size limits. See b/62115660.\n",
              "    let position = 0;\n",
              "    do {\n",
              "      const length = Math.min(fileData.byteLength - position, MAX_PAYLOAD_SIZE);\n",
              "      const chunk = new Uint8Array(fileData, position, length);\n",
              "      position += length;\n",
              "\n",
              "      const base64 = btoa(String.fromCharCode.apply(null, chunk));\n",
              "      yield {\n",
              "        response: {\n",
              "          action: 'append',\n",
              "          file: file.name,\n",
              "          data: base64,\n",
              "        },\n",
              "      };\n",
              "\n",
              "      let percentDone = fileData.byteLength === 0 ?\n",
              "          100 :\n",
              "          Math.round((position / fileData.byteLength) * 100);\n",
              "      percent.textContent = `${percentDone}% done`;\n",
              "\n",
              "    } while (position < fileData.byteLength);\n",
              "  }\n",
              "\n",
              "  // All done.\n",
              "  yield {\n",
              "    response: {\n",
              "      action: 'complete',\n",
              "    }\n",
              "  };\n",
              "}\n",
              "\n",
              "scope.google = scope.google || {};\n",
              "scope.google.colab = scope.google.colab || {};\n",
              "scope.google.colab._files = {\n",
              "  _uploadFiles,\n",
              "  _uploadFilesContinue,\n",
              "};\n",
              "})(self);\n",
              "</script> "
            ]
          },
          "metadata": {}
        },
        {
          "output_type": "stream",
          "name": "stdout",
          "text": [
            "Saving Titanic-Dataset.csv to Titanic-Dataset (1).csv\n"
          ]
        },
        {
          "output_type": "execute_result",
          "data": {
            "text/plain": [
              "891"
            ]
          },
          "metadata": {},
          "execution_count": 4
        }
      ]
    },
    {
      "cell_type": "code",
      "source": [
        "!pip install pandasql\n",
        "\n",
        "import pandas as pd\n",
        "from pandasql import sqldf\n",
        "\n",
        "df = pd.read_csv('Titanic-Dataset.csv')\n",
        "\n",
        "pysqldf = lambda q: sqldf(q, globals())\n",
        "\n",
        "# SQL query\n",
        "query = \"SELECT * FROM df LIMIT 5;\"\n",
        "\n",
        "result = pysqldf(query)\n",
        "print(result)\n"
      ],
      "metadata": {
        "colab": {
          "base_uri": "https://localhost:8080/"
        },
        "id": "qcstx3BxQ0w7",
        "outputId": "9257084a-f29c-4e1a-977a-6db448bbd788"
      },
      "execution_count": 6,
      "outputs": [
        {
          "output_type": "stream",
          "name": "stdout",
          "text": [
            "Collecting pandasql\n",
            "  Downloading pandasql-0.7.3.tar.gz (26 kB)\n",
            "  Preparing metadata (setup.py) ... \u001b[?25l\u001b[?25hdone\n",
            "Requirement already satisfied: numpy in /usr/local/lib/python3.12/dist-packages (from pandasql) (2.0.2)\n",
            "Requirement already satisfied: pandas in /usr/local/lib/python3.12/dist-packages (from pandasql) (2.2.2)\n",
            "Requirement already satisfied: sqlalchemy in /usr/local/lib/python3.12/dist-packages (from pandasql) (2.0.43)\n",
            "Requirement already satisfied: python-dateutil>=2.8.2 in /usr/local/lib/python3.12/dist-packages (from pandas->pandasql) (2.9.0.post0)\n",
            "Requirement already satisfied: pytz>=2020.1 in /usr/local/lib/python3.12/dist-packages (from pandas->pandasql) (2025.2)\n",
            "Requirement already satisfied: tzdata>=2022.7 in /usr/local/lib/python3.12/dist-packages (from pandas->pandasql) (2025.2)\n",
            "Requirement already satisfied: greenlet>=1 in /usr/local/lib/python3.12/dist-packages (from sqlalchemy->pandasql) (3.2.4)\n",
            "Requirement already satisfied: typing-extensions>=4.6.0 in /usr/local/lib/python3.12/dist-packages (from sqlalchemy->pandasql) (4.14.1)\n",
            "Requirement already satisfied: six>=1.5 in /usr/local/lib/python3.12/dist-packages (from python-dateutil>=2.8.2->pandas->pandasql) (1.17.0)\n",
            "Building wheels for collected packages: pandasql\n",
            "  Building wheel for pandasql (setup.py) ... \u001b[?25l\u001b[?25hdone\n",
            "  Created wheel for pandasql: filename=pandasql-0.7.3-py3-none-any.whl size=26773 sha256=d5a4de243c1852cf36729bbddd0e3f9f7f6262ba58c4d272f9a6c41557688c17\n",
            "  Stored in directory: /root/.cache/pip/wheels/15/a1/e7/6f92f295b5272ae5c02365e6b8fa19cb93f16a537090a1cf27\n",
            "Successfully built pandasql\n",
            "Installing collected packages: pandasql\n",
            "Successfully installed pandasql-0.7.3\n",
            "   PassengerId  Survived  Pclass  \\\n",
            "0            1         0       3   \n",
            "1            2         1       1   \n",
            "2            3         1       3   \n",
            "3            4         1       1   \n",
            "4            5         0       3   \n",
            "\n",
            "                                                Name     Sex   Age  SibSp  \\\n",
            "0                            Braund, Mr. Owen Harris    male  22.0      1   \n",
            "1  Cumings, Mrs. John Bradley (Florence Briggs Th...  female  38.0      1   \n",
            "2                             Heikkinen, Miss. Laina  female  26.0      0   \n",
            "3       Futrelle, Mrs. Jacques Heath (Lily May Peel)  female  35.0      1   \n",
            "4                           Allen, Mr. William Henry    male  35.0      0   \n",
            "\n",
            "   Parch            Ticket     Fare Cabin Embarked  \n",
            "0      0         A/5 21171   7.2500  None        S  \n",
            "1      0          PC 17599  71.2833   C85        C  \n",
            "2      0  STON/O2. 3101282   7.9250  None        S  \n",
            "3      0            113803  53.1000  C123        S  \n",
            "4      0            373450   8.0500  None        S  \n"
          ]
        }
      ]
    },
    {
      "cell_type": "markdown",
      "source": [
        "\n",
        "Count the total number of passengers"
      ],
      "metadata": {
        "id": "CyzF03u4RKuf"
      }
    },
    {
      "cell_type": "code",
      "source": [
        "query = \"SELECT COUNT(*) AS total_passengers FROM df;\"\n",
        "result = pysqldf(query)\n",
        "print(result)"
      ],
      "metadata": {
        "colab": {
          "base_uri": "https://localhost:8080/"
        },
        "id": "BNsfOewcRMbK",
        "outputId": "e7c790f4-9477-4b1c-db99-10df88e57e05"
      },
      "execution_count": 8,
      "outputs": [
        {
          "output_type": "stream",
          "name": "stdout",
          "text": [
            "   total_passengers\n",
            "0               891\n"
          ]
        }
      ]
    },
    {
      "cell_type": "markdown",
      "source": [],
      "metadata": {
        "id": "MIeyTYf_RNkO"
      }
    },
    {
      "cell_type": "markdown",
      "source": [
        "Count how many survived and how many did not survive (group by Survived)"
      ],
      "metadata": {
        "id": "yttSQgAFRYVp"
      }
    },
    {
      "cell_type": "code",
      "source": [
        "query = \"SELECT Survived, COUNT(*) AS count FROM df GROUP BY Survived;\"\n",
        "result = pysqldf(query)\n",
        "print(result)"
      ],
      "metadata": {
        "colab": {
          "base_uri": "https://localhost:8080/"
        },
        "id": "1T4nCYuHRZA6",
        "outputId": "0b2a6646-0753-4ff3-d4c0-825ff8fd7d97"
      },
      "execution_count": 10,
      "outputs": [
        {
          "output_type": "stream",
          "name": "stdout",
          "text": [
            "   Survived  count\n",
            "0         0    549\n",
            "1         1    342\n"
          ]
        }
      ]
    },
    {
      "cell_type": "markdown",
      "source": [
        "Calculate the average age of passengers"
      ],
      "metadata": {
        "id": "ELK7lvzPRhG4"
      }
    },
    {
      "cell_type": "code",
      "source": [
        "query = \"SELECT AVG(Age) AS average_age FROM df;\"\n",
        "result = pysqldf(query)\n",
        "print(result)"
      ],
      "metadata": {
        "colab": {
          "base_uri": "https://localhost:8080/"
        },
        "id": "iHacXzPrRYCe",
        "outputId": "cf55ce71-7e33-466c-a54d-24cba1db457a"
      },
      "execution_count": 12,
      "outputs": [
        {
          "output_type": "stream",
          "name": "stdout",
          "text": [
            "   average_age\n",
            "0    29.699118\n"
          ]
        }
      ]
    },
    {
      "cell_type": "markdown",
      "source": [
        "Find passengers with missing age values"
      ],
      "metadata": {
        "id": "04NKB5hmRo2n"
      }
    },
    {
      "cell_type": "code",
      "source": [
        "query = \"SELECT * FROM df WHERE Age IS NULL;\"\n",
        "result = pysqldf(query)\n",
        "print(result)"
      ],
      "metadata": {
        "colab": {
          "base_uri": "https://localhost:8080/"
        },
        "id": "tiI09q8ARphx",
        "outputId": "4f3136ae-6141-4242-8b1f-fc7c91f39331"
      },
      "execution_count": 14,
      "outputs": [
        {
          "output_type": "stream",
          "name": "stdout",
          "text": [
            "     PassengerId  Survived  Pclass                                      Name  \\\n",
            "0              6         0       3                          Moran, Mr. James   \n",
            "1             18         1       2              Williams, Mr. Charles Eugene   \n",
            "2             20         1       3                   Masselmani, Mrs. Fatima   \n",
            "3             27         0       3                   Emir, Mr. Farred Chehab   \n",
            "4             29         1       3             O'Dwyer, Miss. Ellen \"Nellie\"   \n",
            "..           ...       ...     ...                                       ...   \n",
            "172          860         0       3                          Razi, Mr. Raihed   \n",
            "173          864         0       3         Sage, Miss. Dorothy Edith \"Dolly\"   \n",
            "174          869         0       3               van Melkebeke, Mr. Philemon   \n",
            "175          879         0       3                        Laleff, Mr. Kristo   \n",
            "176          889         0       3  Johnston, Miss. Catherine Helen \"Carrie\"   \n",
            "\n",
            "        Sex   Age  SibSp  Parch      Ticket     Fare Cabin Embarked  \n",
            "0      male  None      0      0      330877   8.4583  None        Q  \n",
            "1      male  None      0      0      244373  13.0000  None        S  \n",
            "2    female  None      0      0        2649   7.2250  None        C  \n",
            "3      male  None      0      0        2631   7.2250  None        C  \n",
            "4    female  None      0      0      330959   7.8792  None        Q  \n",
            "..      ...   ...    ...    ...         ...      ...   ...      ...  \n",
            "172    male  None      0      0        2629   7.2292  None        C  \n",
            "173  female  None      8      2    CA. 2343  69.5500  None        S  \n",
            "174    male  None      0      0      345777   9.5000  None        S  \n",
            "175    male  None      0      0      349217   7.8958  None        S  \n",
            "176  female  None      1      2  W./C. 6607  23.4500  None        S  \n",
            "\n",
            "[177 rows x 12 columns]\n"
          ]
        }
      ]
    },
    {
      "cell_type": "markdown",
      "source": [
        " 6 Count passengers by gender"
      ],
      "metadata": {
        "id": "oGtgmJAqR0d2"
      }
    },
    {
      "cell_type": "code",
      "source": [
        "query = \"SELECT Sex, COUNT(*) AS count FROM df GROUP BY Sex;\"\n",
        "result = pysqldf(query)\n",
        "print(result)"
      ],
      "metadata": {
        "colab": {
          "base_uri": "https://localhost:8080/"
        },
        "id": "ZIv7P-PtR2J9",
        "outputId": "a876554e-3bed-47be-e0e0-69f491b62f1f"
      },
      "execution_count": 16,
      "outputs": [
        {
          "output_type": "stream",
          "name": "stdout",
          "text": [
            "      Sex  count\n",
            "0  female    314\n",
            "1    male    577\n"
          ]
        }
      ]
    },
    {
      "cell_type": "markdown",
      "source": [
        " 7 Calculate the survival rate by gender"
      ],
      "metadata": {
        "id": "4O_zVzJBSCEf"
      }
    },
    {
      "cell_type": "code",
      "source": [
        "query = \"SELECT Sex, AVG(Survived) AS survival_rate FROM df GROUP BY Sex;\"\n",
        "result = pysqldf(query)\n",
        "print(result)"
      ],
      "metadata": {
        "colab": {
          "base_uri": "https://localhost:8080/"
        },
        "id": "ZLPITu6nRoaC",
        "outputId": "2ec6af57-0c89-4098-bee3-fdcbc45efa71"
      },
      "execution_count": 18,
      "outputs": [
        {
          "output_type": "stream",
          "name": "stdout",
          "text": [
            "      Sex  survival_rate\n",
            "0  female       0.742038\n",
            "1    male       0.188908\n"
          ]
        }
      ]
    },
    {
      "cell_type": "markdown",
      "source": [
        "  8 Find the passengers with the highest fare"
      ],
      "metadata": {
        "id": "jLJETtuMSKgz"
      }
    },
    {
      "cell_type": "code",
      "source": [
        "query = \"SELECT * FROM df ORDER BY Fare DESC LIMIT 5;\"\n",
        "result = pysqldf(query)\n",
        "print(result)"
      ],
      "metadata": {
        "colab": {
          "base_uri": "https://localhost:8080/"
        },
        "id": "hYnZrQ6dRVaH",
        "outputId": "39df5038-1a77-43f1-a66e-96ea01c5c7bf"
      },
      "execution_count": 20,
      "outputs": [
        {
          "output_type": "stream",
          "name": "stdout",
          "text": [
            "   PassengerId  Survived  Pclass                                Name     Sex  \\\n",
            "0          259         1       1                    Ward, Miss. Anna  female   \n",
            "1          680         1       1  Cardeza, Mr. Thomas Drake Martinez    male   \n",
            "2          738         1       1              Lesurer, Mr. Gustave J    male   \n",
            "3           28         0       1      Fortune, Mr. Charles Alexander    male   \n",
            "4           89         1       1          Fortune, Miss. Mabel Helen  female   \n",
            "\n",
            "    Age  SibSp  Parch    Ticket      Fare        Cabin Embarked  \n",
            "0  35.0      0      0  PC 17755  512.3292         None        C  \n",
            "1  36.0      0      1  PC 17755  512.3292  B51 B53 B55        C  \n",
            "2  35.0      0      0  PC 17755  512.3292         B101        C  \n",
            "3  19.0      3      2     19950  263.0000  C23 C25 C27        S  \n",
            "4  23.0      3      2     19950  263.0000  C23 C25 C27        S  \n"
          ]
        }
      ]
    },
    {
      "cell_type": "markdown",
      "source": [
        "   9 Count passengers by passenger class (Pclass)"
      ],
      "metadata": {
        "id": "rG0Lh1PNSUpQ"
      }
    },
    {
      "cell_type": "code",
      "source": [
        "query = \"SELECT Pclass, COUNT(*) AS count FROM df GROUP BY Pclass;\"\n",
        "result = pysqldf(query)\n",
        "print(result)"
      ],
      "metadata": {
        "colab": {
          "base_uri": "https://localhost:8080/"
        },
        "id": "ALLJHHCGSYGy",
        "outputId": "03836c6b-5745-42ac-89f1-a1552dd77e24"
      },
      "execution_count": 22,
      "outputs": [
        {
          "output_type": "stream",
          "name": "stdout",
          "text": [
            "   Pclass  count\n",
            "0       1    216\n",
            "1       2    184\n",
            "2       3    491\n"
          ]
        }
      ]
    },
    {
      "cell_type": "markdown",
      "source": [
        "10 Calculate average fare by passenger class"
      ],
      "metadata": {
        "id": "THIas6LySc8z"
      }
    },
    {
      "cell_type": "code",
      "source": [
        "query = \"SELECT Pclass, AVG(Fare) AS avg_fare FROM df GROUP BY Pclass;\"\n",
        "result = pysqldf(query)\n",
        "print(result)"
      ],
      "metadata": {
        "colab": {
          "base_uri": "https://localhost:8080/"
        },
        "id": "fBdqtpQpSfcN",
        "outputId": "ff492039-ff4b-4732-994b-6c827df586b3"
      },
      "execution_count": 24,
      "outputs": [
        {
          "output_type": "stream",
          "name": "stdout",
          "text": [
            "   Pclass   avg_fare\n",
            "0       1  84.154687\n",
            "1       2  20.662183\n",
            "2       3  13.675550\n"
          ]
        }
      ]
    },
    {
      "cell_type": "markdown",
      "source": [
        "11 Count how many siblings/spouses aboard each passenger had (SibSp)"
      ],
      "metadata": {
        "id": "Rf_GVqrJSl9l"
      }
    },
    {
      "cell_type": "code",
      "source": [
        "query = \"SELECT SibSp, COUNT(*) AS count FROM df GROUP BY SibSp ORDER BY SibSp;\"\n",
        "result = pysqldf(query)\n",
        "print(result)"
      ],
      "metadata": {
        "colab": {
          "base_uri": "https://localhost:8080/"
        },
        "id": "bzjwEgMzSn1z",
        "outputId": "255d3e13-04db-49c6-9a09-935ad4c4d9d1"
      },
      "execution_count": 26,
      "outputs": [
        {
          "output_type": "stream",
          "name": "stdout",
          "text": [
            "   SibSp  count\n",
            "0      0    608\n",
            "1      1    209\n",
            "2      2     28\n",
            "3      3     16\n",
            "4      4     18\n",
            "5      5      5\n",
            "6      8      7\n"
          ]
        }
      ]
    },
    {
      "cell_type": "markdown",
      "source": [
        "12 Count how many parents/children aboard each passenger had (Parch)"
      ],
      "metadata": {
        "id": "HyU7fEGWS0Dt"
      }
    },
    {
      "cell_type": "code",
      "source": [
        "query = \"SELECT Parch, COUNT(*) AS count FROM df GROUP BY Parch ORDER BY Parch;\"\n",
        "result = pysqldf(query)\n",
        "print(result)"
      ],
      "metadata": {
        "colab": {
          "base_uri": "https://localhost:8080/"
        },
        "id": "DJ77C60NS1pd",
        "outputId": "e9f74c73-63f6-4dfb-db4c-d1070f4706e6"
      },
      "execution_count": 28,
      "outputs": [
        {
          "output_type": "stream",
          "name": "stdout",
          "text": [
            "   Parch  count\n",
            "0      0    678\n",
            "1      1    118\n",
            "2      2     80\n",
            "3      3      5\n",
            "4      4      4\n",
            "5      5      5\n",
            "6      6      1\n"
          ]
        }
      ]
    },
    {
      "cell_type": "markdown",
      "source": [
        "13 Find passengers who embarked from Southampton (Embarked = 'S')"
      ],
      "metadata": {
        "id": "U049v5g8S72Y"
      }
    },
    {
      "cell_type": "code",
      "source": [
        "query = \"SELECT * FROM df WHERE Embarked = 'S' LIMIT 10;\"\n",
        "result = pysqldf(query)\n",
        "print(result)"
      ],
      "metadata": {
        "colab": {
          "base_uri": "https://localhost:8080/"
        },
        "id": "JG8KAY30S9xW",
        "outputId": "9e335599-e710-4fcf-fdfd-5b0a50b3d35c"
      },
      "execution_count": 30,
      "outputs": [
        {
          "output_type": "stream",
          "name": "stdout",
          "text": [
            "   PassengerId  Survived  Pclass  \\\n",
            "0            1         0       3   \n",
            "1            3         1       3   \n",
            "2            4         1       1   \n",
            "3            5         0       3   \n",
            "4            7         0       1   \n",
            "5            8         0       3   \n",
            "6            9         1       3   \n",
            "7           11         1       3   \n",
            "8           12         1       1   \n",
            "9           13         0       3   \n",
            "\n",
            "                                                Name     Sex   Age  SibSp  \\\n",
            "0                            Braund, Mr. Owen Harris    male  22.0      1   \n",
            "1                             Heikkinen, Miss. Laina  female  26.0      0   \n",
            "2       Futrelle, Mrs. Jacques Heath (Lily May Peel)  female  35.0      1   \n",
            "3                           Allen, Mr. William Henry    male  35.0      0   \n",
            "4                            McCarthy, Mr. Timothy J    male  54.0      0   \n",
            "5                     Palsson, Master. Gosta Leonard    male   2.0      3   \n",
            "6  Johnson, Mrs. Oscar W (Elisabeth Vilhelmina Berg)  female  27.0      0   \n",
            "7                    Sandstrom, Miss. Marguerite Rut  female   4.0      1   \n",
            "8                           Bonnell, Miss. Elizabeth  female  58.0      0   \n",
            "9                     Saundercock, Mr. William Henry    male  20.0      0   \n",
            "\n",
            "   Parch            Ticket     Fare Cabin Embarked  \n",
            "0      0         A/5 21171   7.2500  None        S  \n",
            "1      0  STON/O2. 3101282   7.9250  None        S  \n",
            "2      0            113803  53.1000  C123        S  \n",
            "3      0            373450   8.0500  None        S  \n",
            "4      0             17463  51.8625   E46        S  \n",
            "5      1            349909  21.0750  None        S  \n",
            "6      2            347742  11.1333  None        S  \n",
            "7      1           PP 9549  16.7000    G6        S  \n",
            "8      0            113783  26.5500  C103        S  \n",
            "9      0         A/5. 2151   8.0500  None        S  \n"
          ]
        }
      ]
    },
    {
      "cell_type": "markdown",
      "source": [
        "14 Calculate survival rate by embarkation port"
      ],
      "metadata": {
        "id": "-5k9CBsPTFpK"
      }
    },
    {
      "cell_type": "code",
      "source": [
        "query = \"SELECT Embarked, AVG(Survived) AS survival_rate FROM df GROUP BY Embarked;\"\n",
        "result = pysqldf(query)\n",
        "print(result)"
      ],
      "metadata": {
        "colab": {
          "base_uri": "https://localhost:8080/"
        },
        "id": "Z5wtO3nfTFbk",
        "outputId": "ca0cf918-7972-4907-e120-fff86a9b96af"
      },
      "execution_count": 32,
      "outputs": [
        {
          "output_type": "stream",
          "name": "stdout",
          "text": [
            "  Embarked  survival_rate\n",
            "0     None       1.000000\n",
            "1        C       0.553571\n",
            "2        Q       0.389610\n",
            "3        S       0.336957\n"
          ]
        }
      ]
    },
    {
      "cell_type": "markdown",
      "source": [
        " 15 Find passengers under 18 years old\n",
        "\n"
      ],
      "metadata": {
        "id": "kjpa5PtBTQOa"
      }
    },
    {
      "cell_type": "code",
      "source": [
        "query = \"SELECT * FROM df WHERE Age < 18 LIMIT 10;\"\n",
        "result = pysqldf(query)\n",
        "print(result)"
      ],
      "metadata": {
        "colab": {
          "base_uri": "https://localhost:8080/"
        },
        "id": "-dPPVxFfTTCz",
        "outputId": "26ad57cb-8328-49ce-d459-62c715166cc2"
      },
      "execution_count": 34,
      "outputs": [
        {
          "output_type": "stream",
          "name": "stdout",
          "text": [
            "   PassengerId  Survived  Pclass                                      Name  \\\n",
            "0            8         0       3            Palsson, Master. Gosta Leonard   \n",
            "1           10         1       2       Nasser, Mrs. Nicholas (Adele Achem)   \n",
            "2           11         1       3           Sandstrom, Miss. Marguerite Rut   \n",
            "3           15         0       3      Vestrom, Miss. Hulda Amanda Adolfina   \n",
            "4           17         0       3                      Rice, Master. Eugene   \n",
            "5           23         1       3               McGowan, Miss. Anna \"Annie\"   \n",
            "6           25         0       3             Palsson, Miss. Torborg Danira   \n",
            "7           40         1       3               Nicola-Yarred, Miss. Jamila   \n",
            "8           44         1       2  Laroche, Miss. Simonne Marie Anne Andree   \n",
            "9           51         0       3                Panula, Master. Juha Niilo   \n",
            "\n",
            "      Sex   Age  SibSp  Parch         Ticket     Fare Cabin Embarked  \n",
            "0    male   2.0      3      1         349909  21.0750  None        S  \n",
            "1  female  14.0      1      0         237736  30.0708  None        C  \n",
            "2  female   4.0      1      1        PP 9549  16.7000    G6        S  \n",
            "3  female  14.0      0      0         350406   7.8542  None        S  \n",
            "4    male   2.0      4      1         382652  29.1250  None        Q  \n",
            "5  female  15.0      0      0         330923   8.0292  None        Q  \n",
            "6  female   8.0      3      1         349909  21.0750  None        S  \n",
            "7  female  14.0      1      0           2651  11.2417  None        C  \n",
            "8  female   3.0      1      2  SC/Paris 2123  41.5792  None        C  \n",
            "9    male   7.0      4      1        3101295  39.6875  None        S  \n"
          ]
        }
      ]
    },
    {
      "cell_type": "markdown",
      "source": [
        "16 Get count of survivors and non-survivors by passenger class"
      ],
      "metadata": {
        "id": "juh3imPNTbFo"
      }
    },
    {
      "cell_type": "code",
      "source": [
        "query = \"SELECT Pclass, Survived, COUNT(*) AS count FROM df GROUP BY Pclass, Survived ORDER BY Pclass, Survived;\"\n",
        "result = pysqldf(query)\n",
        "print(result)"
      ],
      "metadata": {
        "colab": {
          "base_uri": "https://localhost:8080/"
        },
        "id": "f2z-8gaeTa32",
        "outputId": "bb764b8b-8f67-46fd-8b62-80b845a3355c"
      },
      "execution_count": 36,
      "outputs": [
        {
          "output_type": "stream",
          "name": "stdout",
          "text": [
            "   Pclass  Survived  count\n",
            "0       1         0     80\n",
            "1       1         1    136\n",
            "2       2         0     97\n",
            "3       2         1     87\n",
            "4       3         0    372\n",
            "5       3         1    119\n"
          ]
        }
      ]
    },
    {
      "cell_type": "markdown",
      "source": [
        "17 Calculate average age of survivors vs non-survivors"
      ],
      "metadata": {
        "id": "IQL0P8u-Tjv7"
      }
    },
    {
      "cell_type": "code",
      "source": [
        "query = \"SELECT Survived, AVG(Age) AS avg_age FROM df GROUP BY Survived;\"\n",
        "result = pysqldf(query)\n",
        "print(result)"
      ],
      "metadata": {
        "colab": {
          "base_uri": "https://localhost:8080/"
        },
        "id": "0djwwt0GTm26",
        "outputId": "ed99fdf0-2e5a-42d8-be0f-34a2affa2edc"
      },
      "execution_count": 38,
      "outputs": [
        {
          "output_type": "stream",
          "name": "stdout",
          "text": [
            "   Survived    avg_age\n",
            "0         0  30.626179\n",
            "1         1  28.343690\n"
          ]
        }
      ]
    },
    {
      "cell_type": "markdown",
      "source": [
        "18 Find passengers with fare greater than 100"
      ],
      "metadata": {
        "id": "H67lxCnZT5eT"
      }
    },
    {
      "cell_type": "code",
      "source": [
        "query = \"SELECT * FROM df WHERE Fare > 100 LIMIT 10;\"\n",
        "result = pysqldf(query)\n",
        "print(result)"
      ],
      "metadata": {
        "colab": {
          "base_uri": "https://localhost:8080/"
        },
        "id": "V59F_6MvUTpR",
        "outputId": "572ade40-f6c7-4642-8225-132aa81a8aa1"
      },
      "execution_count": 41,
      "outputs": [
        {
          "output_type": "stream",
          "name": "stdout",
          "text": [
            "   PassengerId  Survived  Pclass  \\\n",
            "0           28         0       1   \n",
            "1           32         1       1   \n",
            "2           89         1       1   \n",
            "3          119         0       1   \n",
            "4          196         1       1   \n",
            "5          216         1       1   \n",
            "6          259         1       1   \n",
            "7          269         1       1   \n",
            "8          270         1       1   \n",
            "9          298         0       1   \n",
            "\n",
            "                                             Name     Sex   Age  SibSp  Parch  \\\n",
            "0                  Fortune, Mr. Charles Alexander    male  19.0      3      2   \n",
            "1  Spencer, Mrs. William Augustus (Marie Eugenie)  female   NaN      1      0   \n",
            "2                      Fortune, Miss. Mabel Helen  female  23.0      3      2   \n",
            "3                        Baxter, Mr. Quigg Edmond    male  24.0      0      1   \n",
            "4                            Lurette, Miss. Elise  female  58.0      0      0   \n",
            "5                         Newell, Miss. Madeleine  female  31.0      1      0   \n",
            "6                                Ward, Miss. Anna  female  35.0      0      0   \n",
            "7   Graham, Mrs. William Thompson (Edith Junkins)  female  58.0      0      1   \n",
            "8                          Bissette, Miss. Amelia  female  35.0      0      0   \n",
            "9                    Allison, Miss. Helen Loraine  female   2.0      1      2   \n",
            "\n",
            "     Ticket      Fare        Cabin Embarked  \n",
            "0     19950  263.0000  C23 C25 C27        S  \n",
            "1  PC 17569  146.5208          B78        C  \n",
            "2     19950  263.0000  C23 C25 C27        S  \n",
            "3  PC 17558  247.5208      B58 B60        C  \n",
            "4  PC 17569  146.5208          B80        C  \n",
            "5     35273  113.2750          D36        C  \n",
            "6  PC 17755  512.3292         None        C  \n",
            "7  PC 17582  153.4625         C125        S  \n",
            "8  PC 17760  135.6333          C99        S  \n",
            "9    113781  151.5500      C22 C26        S  \n"
          ]
        }
      ]
    },
    {
      "cell_type": "markdown",
      "source": [
        "19 List passengers with more than 2 siblings/spouses"
      ],
      "metadata": {
        "id": "P5qWfs3CUsyY"
      }
    },
    {
      "cell_type": "code",
      "source": [
        "query = \"SELECT * FROM df WHERE SibSp > 2 LIMIT 10;\"\n",
        "result = pysqldf(query)\n",
        "print(result)"
      ],
      "metadata": {
        "colab": {
          "base_uri": "https://localhost:8080/"
        },
        "id": "jookDde7UuqY",
        "outputId": "7c1ea050-a4b6-48ad-aad0-edd8ef6b3a89"
      },
      "execution_count": 43,
      "outputs": [
        {
          "output_type": "stream",
          "name": "stdout",
          "text": [
            "   PassengerId  Survived  Pclass  \\\n",
            "0            8         0       3   \n",
            "1           17         0       3   \n",
            "2           25         0       3   \n",
            "3           28         0       1   \n",
            "4           51         0       3   \n",
            "5           60         0       3   \n",
            "6           64         0       3   \n",
            "7           69         1       3   \n",
            "8           72         0       3   \n",
            "9           86         1       3   \n",
            "\n",
            "                                                Name     Sex   Age  SibSp  \\\n",
            "0                     Palsson, Master. Gosta Leonard    male   2.0      3   \n",
            "1                               Rice, Master. Eugene    male   2.0      4   \n",
            "2                      Palsson, Miss. Torborg Danira  female   8.0      3   \n",
            "3                     Fortune, Mr. Charles Alexander    male  19.0      3   \n",
            "4                         Panula, Master. Juha Niilo    male   7.0      4   \n",
            "5                 Goodwin, Master. William Frederick    male  11.0      5   \n",
            "6                              Skoog, Master. Harald    male   4.0      3   \n",
            "7                    Andersson, Miss. Erna Alexandra  female  17.0      4   \n",
            "8                         Goodwin, Miss. Lillian Amy  female  16.0      5   \n",
            "9  Backstrom, Mrs. Karl Alfred (Maria Mathilda Gu...  female  33.0      3   \n",
            "\n",
            "   Parch   Ticket      Fare        Cabin Embarked  \n",
            "0      1   349909   21.0750         None        S  \n",
            "1      1   382652   29.1250         None        Q  \n",
            "2      1   349909   21.0750         None        S  \n",
            "3      2    19950  263.0000  C23 C25 C27        S  \n",
            "4      1  3101295   39.6875         None        S  \n",
            "5      2  CA 2144   46.9000         None        S  \n",
            "6      2   347088   27.9000         None        S  \n",
            "7      2  3101281    7.9250         None        S  \n",
            "8      2  CA 2144   46.9000         None        S  \n",
            "9      0  3101278   15.8500         None        S  \n"
          ]
        }
      ]
    },
    {
      "cell_type": "markdown",
      "source": [
        " 20 Get the number of passengers by gender and passenger class"
      ],
      "metadata": {
        "id": "itjNgP6MU2fG"
      }
    },
    {
      "cell_type": "code",
      "source": [
        "query = \"SELECT Sex, Pclass, COUNT(*) AS count FROM df GROUP BY Sex, Pclass ORDER BY Sex, Pclass;\"\n",
        "result = pysqldf(query)\n",
        "print(result)"
      ],
      "metadata": {
        "colab": {
          "base_uri": "https://localhost:8080/"
        },
        "id": "6vbA7bFGU2RH",
        "outputId": "784ae8c9-651e-44f6-9fc7-c7a860a2a124"
      },
      "execution_count": 45,
      "outputs": [
        {
          "output_type": "stream",
          "name": "stdout",
          "text": [
            "      Sex  Pclass  count\n",
            "0  female       1     94\n",
            "1  female       2     76\n",
            "2  female       3    144\n",
            "3    male       1    122\n",
            "4    male       2    108\n",
            "5    male       3    347\n"
          ]
        }
      ]
    }
  ]
}